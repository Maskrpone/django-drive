{
 "cells": [
  {
   "cell_type": "markdown",
   "id": "d299164f",
   "metadata": {},
   "source": [
    "# How to classify MNIST digits with a simple neural network architecture?"
   ]
  },
  {
   "cell_type": "code",
   "execution_count": 1,
   "id": "25a338eb",
   "metadata": {},
   "outputs": [],
   "source": [
    "import numpy as np\n",
    "from tensorflow.keras.datasets import mnist\n",
    "from tensorflow.keras.utils  import to_categorical\n",
    "from tensorflow.keras.layers import Dense # Dense layers are \"fully connected\" layers\n",
    "from tensorflow.keras.models import Sequential # Documentation: https://keras.io/models/sequential/\n",
    "import matplotlib.pyplot as plt\n"
   ]
  },
  {
   "cell_type": "markdown",
   "id": "67a39524",
   "metadata": {},
   "source": [
    "\n",
    "Load the MNIST data (or downlaod it if not already done) "
   ]
  },
  {
   "cell_type": "code",
   "execution_count": 19,
   "id": "b67c916e",
   "metadata": {},
   "outputs": [],
   "source": [
    "(x_train, y_train), (x_test, y_test) = mnist.load_data()"
   ]
  },
  {
   "cell_type": "code",
   "execution_count": 20,
   "id": "e23390b0",
   "metadata": {},
   "outputs": [
    {
     "name": "stdout",
     "output_type": "stream",
     "text": [
      "(60000, 28, 28)\n",
      "(60000,)\n",
      "(10000, 28, 28)\n",
      "(10000,)\n"
     ]
    }
   ],
   "source": [
    "print(x_train.shape)\n",
    "print(y_train.shape)\n",
    "print(x_test.shape)\n",
    "print(y_test.shape)"
   ]
  },
  {
   "cell_type": "markdown",
   "id": "8919a90a",
   "metadata": {},
   "source": [
    "Prepare and convert the data"
   ]
  },
  {
   "cell_type": "code",
   "execution_count": 21,
   "id": "2ee9139c",
   "metadata": {},
   "outputs": [
    {
     "name": "stdout",
     "output_type": "stream",
     "text": [
      "[[  0   0   0   0   0   0   0   0   0   0   0   0   0   0   0   0   0   0   0   0   0   0   0   0   0   0   0   0]\n",
      " [  0   0   0   0   0   0   0   0   0   0   0   0   0   0   0   0   0   0   0   0   0   0   0   0   0   0   0   0]\n",
      " [  0   0   0   0   0   0   0   0   0   0   0   0   0   0   0   0   0   0   0   0   0   0   0   0   0   0   0   0]\n",
      " [  0   0   0   0   0   0   0   0   0   0   0   0   0   0   0   0   0   0   0   0   0   0   0   0   0   0   0   0]\n",
      " [  0   0   0   0   0   0   0   0   0   0   0   0   0   0   0   0   0   0   0   0   0   0   0   0   0   0   0   0]\n",
      " [  0   0   0   0   0   0   0   0   0   0   0   0   0   0   0   0   0   0   0   0   0   0   0   0   0   0   0   0]\n",
      " [  0   0   0   0   0   0   0   0   0   0   0   0   0   0   0   0   0   0   0   0   0   0   0   0   0   0   0   0]\n",
      " [  0   0   0   0   0   0   5  18  18 131 136 136 164 254 255 254 249 136  59   5   0   0   0   0   0   0   0   0]\n",
      " [  0   0   0   0   0   8 152 253 253 253 253 253 253 253 253 253 253 253 253 142   0   0   0   0   0   0   0   0]\n",
      " [  0   0   0   0   0  18 185 253 253 202 133  82  82  82  82  82  90 253 253 163   0   0   0   0   0   0   0   0]\n",
      " [  0   0   0   0   0   0  52 240 223   8   0   0   0   0   0   0  12 253 253  70   0   0   0   0   0   0   0   0]\n",
      " [  0   0   0   0   0   0   0  38  27   0   0   0   0   0   0   0  54 253 253  70   0   0   0   0   0   0   0   0]\n",
      " [  0   0   0   0   0   0   0   0   0   0   0   0   0   0   0   0 130 253 233  41   0   0   0   0   0   0   0   0]\n",
      " [  0   0   0   0   0   0   0   0   0   0   0   0   0   0   0   0 244 253 148   0   0   0   0   0   0   0   0   0]\n",
      " [  0   0   0   0   0   0   0   0   0   0   0   0   0   0   0  64 251 253  88   0   0   0   0   0   0   0   0   0]\n",
      " [  0   0   0   0   0   0   0   0   0   0   0   0   0   0   0 113 253 253  88   0   0   0   0   0   0   0   0   0]\n",
      " [  0   0   0   0   0   0   0   0   0   0   0   0   0   0   0 113 253 246  68   0   0   0   0   0   0   0   0   0]\n",
      " [  0   0   0   0   0   0   0   0   0   0   0   0   0   0   0 204 253 224   0   0   0   0   0   0   0   0   0   0]\n",
      " [  0   0   0   0   0   0   0   0   0   0   0   0   0   0   0 231 253 125   0   0   0   0   0   0   0   0   0   0]\n",
      " [  0   0   0   0   0   0   0   0   0   0   0   0   0   0 139 251 243  10   0   0   0   0   0   0   0   0   0   0]\n",
      " [  0   0   0   0   0   0   0   0   0   0   0   0   0   0 213 253 241   0   0   0   0   0   0   0   0   0   0   0]\n",
      " [  0   0   0   0   0   0   0   0   0   0   0   0   0   0 213 253 172   0   0   0   0   0   0   0   0   0   0   0]\n",
      " [  0   0   0   0   0   0   0   0   0   0   0   0   0  37 232 253 124   0   0   0   0   0   0   0   0   0   0   0]\n",
      " [  0   0   0   0   0   0   0   0   0   0   0   0   0   0 213 253 124   0   0   0   0   0   0   0   0   0   0   0]\n",
      " [  0   0   0   0   0   0   0   0   0   0   0   0   0   0 213 253 162  49 160  56   0   0   0   0   0   0   0   0]\n",
      " [  0   0   0   0   0   0   0   0   0   0   0   0   0   0 213 253 252 227  76  10   0   0   0   0   0   0   0   0]\n",
      " [  0   0   0   0   0   0   0   0   0   0   0   0   0   0  14 177 248  64   0   0   0   0   0   0   0   0   0   0]\n",
      " [  0   0   0   0   0   0   0   0   0   0   0   0   0   0   0   0   0   0   0   0   0   0   0   0   0   0   0   0]]\n"
     ]
    }
   ],
   "source": [
    "np.set_printoptions(linewidth=150)   # Enlarge the line the see all the element in one column\n",
    "print(x_train[2024])"
   ]
  },
  {
   "cell_type": "code",
   "execution_count": 22,
   "id": "d088c9a3",
   "metadata": {},
   "outputs": [
    {
     "name": "stdout",
     "output_type": "stream",
     "text": [
      "7\n"
     ]
    }
   ],
   "source": [
    "print(y_train[2024])"
   ]
  },
  {
   "cell_type": "code",
   "execution_count": 23,
   "id": "0291d7c7",
   "metadata": {},
   "outputs": [
    {
     "name": "stdout",
     "output_type": "stream",
     "text": [
      "Training data shape:  (60000, 28, 28)\n",
      "Test data shape (10000, 28, 28)\n"
     ]
    }
   ],
   "source": [
    "print(\"Training data shape: \", x_train.shape) # (60000, 28, 28) -- 60000 images, each 28x28 pixels\n",
    "print(\"Test data shape\", x_test.shape) # (10000, 28, 28) -- 10000 images, each 28x28\n",
    "\n",
    "# Flatten the images\n",
    "image_vector_size = 28*28   # = 784 \n",
    "x_train = x_train.reshape(x_train.shape[0], image_vector_size)\n",
    "x_test = x_test.reshape(x_test.shape[0], image_vector_size)"
   ]
  },
  {
   "cell_type": "code",
   "execution_count": 24,
   "id": "7fa9d735",
   "metadata": {},
   "outputs": [
    {
     "name": "stdout",
     "output_type": "stream",
     "text": [
      "Training label shape:  (60000,)\n",
      "First 5 training labels:  [5 0 4 1 9]\n",
      "First 5 training lables as one-hot encoded vectors:\n",
      " [[0. 0. 0. 0. 0. 1. 0. 0. 0. 0.]\n",
      " [1. 0. 0. 0. 0. 0. 0. 0. 0. 0.]\n",
      " [0. 0. 0. 0. 1. 0. 0. 0. 0. 0.]\n",
      " [0. 1. 0. 0. 0. 0. 0. 0. 0. 0.]\n",
      " [0. 0. 0. 0. 0. 0. 0. 0. 0. 1.]]\n"
     ]
    }
   ],
   "source": [
    "print(\"Training label shape: \", y_train.shape) # (60000,) -- 60000 numbers (all 0-9)\n",
    "print(\"First 5 training labels: \", y_train[:5]) # [5, 0, 4, 1, 9]\n",
    "\n",
    "# Convert to \"one-hot\" vectors using the to_categorical function\n",
    "num_classes = 10\n",
    "y_train = to_categorical(y_train, num_classes)\n",
    "y_test = to_categorical(y_test, num_classes)\n",
    "\n",
    "print(\"First 5 training lables as one-hot encoded vectors:\\n\", y_train[:5])"
   ]
  },
  {
   "cell_type": "code",
   "execution_count": 27,
   "id": "d9d0a2b1",
   "metadata": {},
   "outputs": [
    {
     "name": "stdout",
     "output_type": "stream",
     "text": [
      "[0. 0. 0. 0. 0. 0. 0. 1. 0. 0.]\n"
     ]
    }
   ],
   "source": [
    "print(y_train[2024])"
   ]
  },
  {
   "cell_type": "code",
   "execution_count": 28,
   "id": "6554fb50",
   "metadata": {},
   "outputs": [
    {
     "name": "stdout",
     "output_type": "stream",
     "text": [
      "Model: \"sequential_1\"\n",
      "_________________________________________________________________\n",
      " Layer (type)                Output Shape              Param #   \n",
      "=================================================================\n",
      " dense_2 (Dense)             (None, 64)                50240     \n",
      "                                                                 \n",
      " dense_3 (Dense)             (None, 10)                650       \n",
      "                                                                 \n",
      "=================================================================\n",
      "Total params: 50,890\n",
      "Trainable params: 50,890\n",
      "Non-trainable params: 0\n",
      "_________________________________________________________________\n"
     ]
    }
   ],
   "source": [
    "model = Sequential()\n",
    "\n",
    "# The input layer requires the special input_shape parameter which should match\n",
    "# the shape of our training data.\n",
    "model.add(Dense(units=64, activation='sigmoid', input_shape=(image_vector_size,)))\n",
    "model.add(Dense(units=num_classes, activation='softmax'))\n",
    "model.summary()"
   ]
  },
  {
   "cell_type": "markdown",
   "id": "dc2c5349",
   "metadata": {},
   "source": [
    "Compile, train and evaluate the model"
   ]
  },
  {
   "cell_type": "code",
   "execution_count": 29,
   "id": "70a286c6",
   "metadata": {},
   "outputs": [],
   "source": [
    "model.compile(optimizer=\"sgd\", loss='categorical_crossentropy', metrics=['accuracy'])"
   ]
  },
  {
   "cell_type": "code",
   "execution_count": 34,
   "id": "cd71b965",
   "metadata": {},
   "outputs": [
    {
     "name": "stdout",
     "output_type": "stream",
     "text": [
      "Epoch 1/5\n",
      "422/422 [==============================] - 1s 3ms/step - loss: 0.2293 - accuracy: 0.9381 - val_loss: 0.1970 - val_accuracy: 0.9475\n",
      "Epoch 2/5\n",
      "422/422 [==============================] - 1s 3ms/step - loss: 0.2239 - accuracy: 0.9388 - val_loss: 0.1986 - val_accuracy: 0.9485\n",
      "Epoch 3/5\n",
      "422/422 [==============================] - 1s 3ms/step - loss: 0.2208 - accuracy: 0.9395 - val_loss: 0.1922 - val_accuracy: 0.9530\n",
      "Epoch 4/5\n",
      "422/422 [==============================] - 1s 3ms/step - loss: 0.2185 - accuracy: 0.9402 - val_loss: 0.1869 - val_accuracy: 0.9540\n",
      "Epoch 5/5\n",
      "422/422 [==============================] - 1s 3ms/step - loss: 0.2145 - accuracy: 0.9411 - val_loss: 0.1896 - val_accuracy: 0.9505\n",
      "313/313 [==============================] - 1s 2ms/step - loss: 0.2254 - accuracy: 0.9380\n"
     ]
    }
   ],
   "source": [
    "history = model.fit(x_train, y_train, batch_size=128, epochs=5, verbose=1, validation_split=.1)\n",
    "loss, accuracy  = model.evaluate(x_test, y_test, verbose=1)"
   ]
  },
  {
   "cell_type": "code",
   "execution_count": 22,
   "id": "493dcab3",
   "metadata": {},
   "outputs": [
    {
     "data": {
      "image/png": "[encoded data removed]",
      "text/plain": [
       "<Figure size 640x480 with 1 Axes>"
      ]
     },
     "metadata": {},
     "output_type": "display_data"
    },
    {
     "name": "stdout",
     "output_type": "stream",
     "text": [
      "Test loss: 0.234\n",
      "Test accuracy: 0.934\n"
     ]
    }
   ],
   "source": [
    "plt.plot(history.history['accuracy'])\n",
    "plt.plot(history.history['val_accuracy'])\n",
    "plt.title('model accuracy')\n",
    "plt.ylabel('accuracy')\n",
    "plt.xlabel('epoch')\n",
    "plt.legend(['training', 'validation'], loc='best')\n",
    "plt.show()\n",
    "\n",
    "print(f'Test loss: {loss:.3}')\n",
    "print(f'Test accuracy: {accuracy:.3}')"
   ]
  },
  {
   "cell_type": "code",
   "execution_count": 37,
   "id": "5add480c",
   "metadata": {},
   "outputs": [
    {
     "name": "stdout",
     "output_type": "stream",
     "text": [
      "1/1 [==============================] - 0s 20ms/step\n",
      "7\n"
     ]
    }
   ],
   "source": [
    "print( np.argmax( model.predict( np.array([x_train[23951]]) )))"
   ]
  },
  {
   "cell_type": "code",
   "execution_count": null,
   "id": "2dd479c3",
   "metadata": {},
   "outputs": [],
   "source": []
  }
 ],
 "metadata": {
  "kernelspec": {
   "display_name": "Python 3 (ipykernel)",
   "language": "python",
   "name": "python3"
  },
  "language_info": {
   "codemirror_mode": {
    "name": "ipython",
    "version": 3
   },
   "file_extension": ".py",
   "mimetype": "text/x-python",
   "name": "python",
   "nbconvert_exporter": "python",
   "pygments_lexer": "ipython3",
   "version": "3.10.13"
  }
 },
 "nbformat": 4,
 "nbformat_minor": 5
}
